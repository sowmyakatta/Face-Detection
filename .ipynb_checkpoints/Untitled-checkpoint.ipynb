{
 "cells": [
  {
   "cell_type": "code",
   "execution_count": 3,
   "metadata": {},
   "outputs": [
    {
     "name": "stderr",
     "output_type": "stream",
     "text": [
      "Using TensorFlow backend.\n"
     ]
    }
   ],
   "source": [
    "from keras.models import Sequential\n",
    "from keras.layers import Conv2D, Flatten, Dense, MaxPool2D"
   ]
  },
  {
   "cell_type": "code",
   "execution_count": 4,
   "metadata": {},
   "outputs": [
    {
     "name": "stdout",
     "output_type": "stream",
     "text": [
      "WARNING:tensorflow:From c:\\users\\hello\\anaconda3\\envs\\my_dog_cat\\lib\\site-packages\\keras\\backend\\tensorflow_backend.py:4070: The name tf.nn.max_pool is deprecated. Please use tf.nn.max_pool2d instead.\n",
      "\n"
     ]
    }
   ],
   "source": [
    "classifier = Sequential()\n",
    "classifier.add(Conv2D(32, (3,3), input_shape=(64,64,3), activation=\"relu\"))\n",
    "classifier.add(MaxPool2D((2,2)))\n",
    "classifier.add(Conv2D(64, (3,3), activation=\"relu\"))\n",
    "classifier.add(MaxPool2D((2,2)))\n",
    "classifier.add(Flatten())\n",
    "classifier.add(Dense(units=120, activation=\"relu\"))\n",
    "classifier.add(Dense(units= 80, activation=\"relu\"))\n",
    "classifier.add(Dense(units=5, activation=\"softmax\"))\n",
    "classifier.compile(optimizer=\"adam\", loss=\"categorical_crossentropy\",metrics=[\"accuracy\"])"
   ]
  },
  {
   "cell_type": "code",
   "execution_count": 5,
   "metadata": {},
   "outputs": [
    {
     "name": "stdout",
     "output_type": "stream",
     "text": [
      "Found 100 images belonging to 5 classes.\n",
      "Found 100 images belonging to 5 classes.\n"
     ]
    }
   ],
   "source": [
    "from keras.preprocessing.image import ImageDataGenerator\n",
    "train_gen =ImageDataGenerator(rescale=1./255, shear_range= 0.2,\n",
    "                              horizontal_flip= True, vertical_flip= True, zoom_range= 0.2)\n",
    "\n",
    "test_gen = ImageDataGenerator(rescale=1./255)\n",
    "\n",
    "train_data =train_gen.flow_from_directory(directory=r\"C:\\Users\\HELLO\\Desktop\\DS\\my_dog_cat\\Persons\",\n",
    "                                          target_size=(64,64), color_mode=\"rgb\", class_mode=\"categorical\")\n",
    "\n",
    "test_data =train_gen.flow_from_directory(directory=r\"C:\\Users\\HELLO\\Desktop\\DS\\my_dog_cat\\Persons\",\n",
    "                                          target_size=(64,64), color_mode=\"rgb\", class_mode=\"categorical\")"
   ]
  },
  {
   "cell_type": "code",
   "execution_count": 40,
   "metadata": {},
   "outputs": [
    {
     "name": "stdout",
     "output_type": "stream",
     "text": [
      "Epoch 1/10\n",
      "500/500 [==============================] - 151s 303ms/step - loss: 0.0020 - accuracy: 0.9998 - val_loss: 0.0017 - val_accuracy: 0.9986\n",
      "Epoch 2/10\n",
      "500/500 [==============================] - 146s 291ms/step - loss: 2.6697e-04 - accuracy: 1.0000 - val_loss: 1.4072e-04 - val_accuracy: 1.0000\n",
      "Epoch 3/10\n",
      "500/500 [==============================] - 146s 292ms/step - loss: 7.2399e-05 - accuracy: 1.0000 - val_loss: 1.6033e-05 - val_accuracy: 1.0000\n",
      "Epoch 4/10\n",
      "500/500 [==============================] - 144s 287ms/step - loss: 0.0797 - accuracy: 0.9734 - val_loss: 1.5218e-04 - val_accuracy: 0.9994\n",
      "Epoch 5/10\n",
      "500/500 [==============================] - 143s 287ms/step - loss: 0.0019 - accuracy: 0.9992 - val_loss: 4.2922e-04 - val_accuracy: 1.0000\n",
      "Epoch 6/10\n",
      "500/500 [==============================] - 156s 312ms/step - loss: 0.0011 - accuracy: 0.9996 - val_loss: 1.4007e-06 - val_accuracy: 0.9996\n",
      "Epoch 7/10\n",
      "500/500 [==============================] - 183s 366ms/step - loss: 0.0174 - accuracy: 0.9952 - val_loss: 0.0019 - val_accuracy: 0.9986\n",
      "Epoch 8/10\n",
      "500/500 [==============================] - 155s 311ms/step - loss: 0.0204 - accuracy: 0.9930 - val_loss: 0.0121 - val_accuracy: 0.9928\n",
      "Epoch 9/10\n",
      "500/500 [==============================] - 158s 317ms/step - loss: 5.6959e-04 - accuracy: 0.9999 - val_loss: 2.0862e-07 - val_accuracy: 1.0000\n",
      "Epoch 10/10\n",
      "500/500 [==============================] - 172s 345ms/step - loss: 0.0098 - accuracy: 0.9967 - val_loss: 0.0081 - val_accuracy: 0.9818\n"
     ]
    },
    {
     "data": {
      "text/plain": [
       "<keras.callbacks.callbacks.History at 0x2fa0c723240>"
      ]
     },
     "execution_count": 40,
     "metadata": {},
     "output_type": "execute_result"
    }
   ],
   "source": [
    "classifier.fit_generator(train_data,steps_per_epoch= 500, epochs=10, validation_data= test_data,\n",
    "                                 validation_steps=200, verbose= 1)"
   ]
  },
  {
   "cell_type": "code",
   "execution_count": 41,
   "metadata": {},
   "outputs": [],
   "source": [
    "from keras.preprocessing import image\n",
    "import numpy as np\n",
    "\n",
    "test_img = image.load_img(r\"C:\\Users\\HELLO\\Desktop\\test1.jpg\", target_size=(64,64))\n",
    "test_img = image.img_to_array(test_img)\n",
    "test_img = np.expand_dims(test_img, axis =0)"
   ]
  },
  {
   "cell_type": "code",
   "execution_count": 42,
   "metadata": {},
   "outputs": [
    {
     "data": {
      "text/plain": [
       "(1, 64, 64, 3)"
      ]
     },
     "execution_count": 42,
     "metadata": {},
     "output_type": "execute_result"
    }
   ],
   "source": [
    "test_img.shape"
   ]
  },
  {
   "cell_type": "code",
   "execution_count": 47,
   "metadata": {},
   "outputs": [],
   "source": [
    "result = classifier.predict(test_img)"
   ]
  },
  {
   "cell_type": "code",
   "execution_count": 48,
   "metadata": {},
   "outputs": [
    {
     "data": {
      "text/plain": [
       "{'Anusha': 0, 'Geetha': 1, 'Naveena': 2, 'Ramya': 3, 'Sowmya': 4}"
      ]
     },
     "execution_count": 48,
     "metadata": {},
     "output_type": "execute_result"
    }
   ],
   "source": [
    "train_data.class_indices"
   ]
  },
  {
   "cell_type": "raw",
   "metadata": {},
   "source": []
  }
 ],
 "metadata": {
  "kernelspec": {
   "display_name": "Python 3",
   "language": "python",
   "name": "python3"
  },
  "language_info": {
   "codemirror_mode": {
    "name": "ipython",
    "version": 3
   },
   "file_extension": ".py",
   "mimetype": "text/x-python",
   "name": "python",
   "nbconvert_exporter": "python",
   "pygments_lexer": "ipython3",
   "version": "3.6.12"
  }
 },
 "nbformat": 4,
 "nbformat_minor": 4
}
